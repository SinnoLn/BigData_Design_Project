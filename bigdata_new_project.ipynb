{
 "cells": [
  {
   "metadata": {
    "ExecuteTime": {
     "end_time": "2024-06-08T23:43:53.868346Z",
     "start_time": "2024-06-08T23:43:04.382643Z"
    }
   },
   "cell_type": "code",
   "source": [
    "from pymongo import MongoClient\n",
    "\n",
    "# MongoDB에 연결\n",
    "client = MongoClient('mongodb://localhost:27017/')  # mongo-router의 포트로 연결\n",
    "db = client['cycle']  # cycle 데이터베이스 선택\n",
    "\n",
    "# 컬렉션 목록 가져오기\n",
    "collections = db.list_collection_names()\n",
    "\n",
    "# 결과 출력\n",
    "print(\"데이터베이스 'cycle'의 컬렉션 목록:\")\n",
    "for collection in collections:\n",
    "    print(collection)\n",
    "\n",
    "# 특정 컬렉션의 데이터 확인\n",
    "broken_history = db['broken_history']\n",
    "station_master = db['station_master']\n",
    "rental_shop_info = db['rental_shop_info']\n",
    "rental_info = db['rental_info']\n",
    "document_count1 = broken_history.count_documents({})\n",
    "document_count2 = station_master.count_documents({})\n",
    "document_count3 = rental_shop_info.count_documents({})\n",
    "document_count4 = rental_info.count_documents({})\n",
    "print(f\"'broken_history' 컬렉션에 있는 문서 수: {document_count1}\")\n",
    "print(f\"'station_master' 컬렉션에 있는 문서 수: {document_count2}\")\n",
    "print(f\"'rental_shop_info' 컬렉션에 있는 문서 수: {document_count3}\")\n",
    "print(f\"'rental_info' 컬렉션에 있는 문서 수: {document_count4}\")"
   ],
   "id": "85a3c0eb25a195fb",
   "outputs": [
    {
     "name": "stdout",
     "output_type": "stream",
     "text": [
      "데이터베이스 'cycle'의 컬렉션 목록:\n",
      "station_master\n",
      "broken_history\n",
      "rental_shop_info\n",
      "rental_info\n",
      "'broken_history' 컬렉션에 있는 문서 수: 30513\n",
      "'station_master' 컬렉션에 있는 문서 수: 967\n",
      "'rental_shop_info' 컬렉션에 있는 문서 수: 3286\n",
      "'rental_info' 컬렉션에 있는 문서 수: 46388233\n"
     ]
    }
   ],
   "execution_count": 17
  },
  {
   "metadata": {
    "ExecuteTime": {
     "end_time": "2024-06-08T23:45:45.257637Z",
     "start_time": "2024-06-08T23:45:45.215221Z"
    }
   },
   "cell_type": "code",
   "source": [
    "from pymongo import MongoClient\n",
    "from pymongo.errors import ConnectionFailure\n",
    "\n",
    "# MongoDB 클러스터의 Mongo Router에 연결\n",
    "mongo_router_uri = \"mongodb://localhost:27017\"\n",
    "client = MongoClient(mongo_router_uri)\n",
    "\n",
    "def check_connection(client):\n",
    "    try:\n",
    "        # 클러스터 상태 확인\n",
    "        server_info = client.server_info()\n",
    "        print(\"Connected to MongoDB server version:\", server_info[\"version\"])\n",
    "        print(\"Cluster status: Connected\")\n",
    "    except ConnectionFailure as e:\n",
    "        print(\"Could not connect to MongoDB:\", e)\n",
    "\n",
    "def check_shard_status(client):\n",
    "    # 샤드 상태 확인\n",
    "    shards = client.admin.command('listShards')\n",
    "    print(\"Shards in the cluster:\")\n",
    "    for shard in shards['shards']:\n",
    "        print(f\"Shard: {shard['_id']}, Host: {shard['host']}\")\n",
    "\n",
    "def check_database_collections(client, db_name):\n",
    "    db = client[db_name]\n",
    "    collections = db.list_collection_names()\n",
    "    print(f\"Collections in database '{db_name}':\")\n",
    "    for collection in collections:\n",
    "        print(f\" - {collection}\")\n",
    "\n",
    "# 연결 상태 확인\n",
    "check_connection(client)\n",
    "\n",
    "# 샤드 상태 확인\n",
    "check_shard_status(client)\n",
    "\n",
    "# 특정 데이터베이스의 컬렉션 상태 확인 (예: cycle 데이터베이스)\n",
    "check_database_collections(client, 'cycle')"
   ],
   "id": "209bd4b76dec90ce",
   "outputs": [
    {
     "name": "stdout",
     "output_type": "stream",
     "text": [
      "Connected to MongoDB server version: 4.4.29\n",
      "Cluster status: Connected\n",
      "Shards in the cluster:\n",
      "Shard: shard1ReplSet, Host: shard1ReplSet/mongo-shard1:27022\n",
      "Shard: shard2ReplSet, Host: shard2ReplSet/mongo-shard2:27023\n",
      "Collections in database 'cycle':\n",
      " - station_master\n",
      " - broken_history\n",
      " - rental_shop_info\n",
      " - rental_info\n"
     ]
    }
   ],
   "execution_count": 18
  },
  {
   "metadata": {
    "ExecuteTime": {
     "end_time": "2024-06-08T23:51:55.120319Z",
     "start_time": "2024-06-08T23:51:54.967813Z"
    }
   },
   "cell_type": "code",
   "source": [
    "# 자전거 고장 신고 내역에서 가장 많이 발생한 고장 유형 조회\n",
    "from pymongo import MongoClient\n",
    "\n",
    "client = MongoClient('mongodb://127.0.0.1:27017')\n",
    "db = client['cycle']\n",
    "collection = db['broken_history']\n",
    "\n",
    "pipeline = [\n",
    "    {\"$group\": {\"_id\": \"$content\", \"count\": {\"$sum\": 1}}},\n",
    "    {\"$sort\": {\"count\": -1}},\n",
    "    {\"$limit\": 5}\n",
    "]\n",
    "\n",
    "try:\n",
    "    result = list(collection.aggregate(pipeline))\n",
    "    for doc in result:\n",
    "        print(doc)\n",
    "except Exception as e:\n",
    "    print(f\"An error occurred: {e}\")"
   ],
   "id": "57a4711702b32c3d",
   "outputs": [
    {
     "name": "stdout",
     "output_type": "stream",
     "text": [
      "{'_id': '기타 ', 'count': 10190}\n",
      "{'_id': '체인', 'count': 5678}\n",
      "{'_id': '타이어 ', 'count': 5304}\n",
      "{'_id': '안장', 'count': 5001}\n",
      "{'_id': '페달', 'count': 2734}\n"
     ]
    }
   ],
   "execution_count": 21
  },
  {
   "metadata": {
    "ExecuteTime": {
     "end_time": "2024-06-08T23:55:02.868178Z",
     "start_time": "2024-06-08T23:53:49.942561Z"
    }
   },
   "cell_type": "code",
   "source": [
    "# 자전거 대여소별 대여 횟수 조회\n",
    "collection = db['rental_info']\n",
    "\n",
    "pipeline = [\n",
    "    {\"$group\": {\"_id\": \"$rental_place\", \"count\": {\"$sum\": 1}}},\n",
    "    {\"$sort\": {\"count\": -1}},\n",
    "    {\"$limit\": 5}\n",
    "]\n",
    "\n",
    "result = list(collection.aggregate(pipeline))\n",
    "for doc in result:\n",
    "    print(doc)"
   ],
   "id": "4aef8ad3b0f25626",
   "outputs": [
    {
     "name": "stdout",
     "output_type": "stream",
     "text": [
      "{'_id': '마곡나루역 2번 출구', 'count': 187606}\n",
      "{'_id': '한강공원 망원나들목', 'count': 142837}\n",
      "{'_id': '뚝섬유원지역 1번출구 앞', 'count': 139984}\n",
      "{'_id': '여의나루역 1번출구 앞', 'count': 119607}\n",
      "{'_id': '마곡나루역 5번출구 뒤편', 'count': 118033}\n"
     ]
    }
   ],
   "execution_count": 22
  },
  {
   "metadata": {
    "ExecuteTime": {
     "end_time": "2024-06-08T23:57:26.153138Z",
     "start_time": "2024-06-08T23:56:44.227167Z"
    }
   },
   "cell_type": "code",
   "source": [
    "# 특정 대여소에서의 평균 대여 시간\n",
    "collection = db['rental_info']\n",
    "\n",
    "pipeline = [\n",
    "    {\"$match\": {\"rental_place\": \"번동사거리\"}},\n",
    "    {\"$group\": {\"_id\": \"$rental_place\", \"average_use_time\": {\"$avg\": \"$use_time_minute\"}}}\n",
    "]\n",
    "\n",
    "result = list(collection.aggregate(pipeline))\n",
    "for doc in result:\n",
    "    print(doc)"
   ],
   "id": "6de3e4c455a0561e",
   "outputs": [
    {
     "name": "stdout",
     "output_type": "stream",
     "text": [
      "{'_id': '번동사거리', 'average_use_time': 23.95011100953376}\n"
     ]
    }
   ],
   "execution_count": 23
  },
  {
   "metadata": {
    "ExecuteTime": {
     "end_time": "2024-06-08T23:58:02.762423Z",
     "start_time": "2024-06-08T23:58:02.270197Z"
    }
   },
   "cell_type": "code",
   "source": [
    "# 자전거 고장 신고 내역과 대여 내역 조인 (Aggregation with $lookup)\n",
    "collection = db['broken_history']\n",
    "\n",
    "pipeline = [\n",
    "    {\n",
    "        \"$lookup\": {\n",
    "            \"from\": \"rental_info\",\n",
    "            \"localField\": \"cycle_num\",\n",
    "            \"foreignField\": \"cycle_num\",\n",
    "            \"as\": \"rental_info\"\n",
    "        }\n",
    "    },\n",
    "    {\"$unwind\": \"$rental_info\"},\n",
    "    {\"$project\": {\n",
    "        \"cycle_num\": 1,\n",
    "        \"created_at\": 1,\n",
    "        \"content\": 1,\n",
    "        \"rental_info.rental_date\": 1,\n",
    "        \"rental_info.rental_place\": 1,\n",
    "        \"rental_info.return_date\": 1,\n",
    "        \"rental_info.return_place\": 1\n",
    "    }},\n",
    "    {\"$limit\": 5}\n",
    "]\n",
    "\n",
    "result = list(collection.aggregate(pipeline))\n",
    "for doc in result:\n",
    "    print(doc)"
   ],
   "id": "e54c81ba16b1fe0b",
   "outputs": [
    {
     "name": "stdout",
     "output_type": "stream",
     "text": [
      "{'_id': ObjectId('66534e5f0b54fa89dc401c63'), 'cycle_num': 'SPB-62819', 'created_at': datetime.datetime(2023, 1, 1, 0, 1), 'content': '안장', 'rental_info': {'rental_date': datetime.datetime(2023, 1, 1, 22, 25, 49), 'rental_place': '동대문역사문화공원역 1번출구 뒤편', 'return_date': datetime.datetime(2023, 1, 1, 22, 35, 36), 'return_place': '왕십리교회옆'}}\n",
      "{'_id': ObjectId('66534e5f0b54fa89dc401c63'), 'cycle_num': 'SPB-62819', 'created_at': datetime.datetime(2023, 1, 1, 0, 1), 'content': '안장', 'rental_info': {'rental_date': datetime.datetime(2023, 1, 3, 9, 58, 6), 'rental_place': '왕십리교회옆', 'return_date': datetime.datetime(2023, 1, 3, 10, 9, 9), 'return_place': '동묘앞역 1번출구 뒤'}}\n",
      "{'_id': ObjectId('66534e5f0b54fa89dc401c63'), 'cycle_num': 'SPB-62819', 'created_at': datetime.datetime(2023, 1, 1, 0, 1), 'content': '안장', 'rental_info': {'rental_date': datetime.datetime(2023, 1, 3, 17, 47, 34), 'rental_place': '동묘앞역 1번출구 뒤', 'return_date': datetime.datetime(2023, 1, 3, 19, 59, 33), 'return_place': '종각역 5번출구'}}\n",
      "{'_id': ObjectId('66534e5f0b54fa89dc401c63'), 'cycle_num': 'SPB-62819', 'created_at': datetime.datetime(2023, 1, 1, 0, 1), 'content': '안장', 'rental_info': {'rental_date': datetime.datetime(2023, 1, 3, 22, 10, 24), 'rental_place': '종각역 5번출구', 'return_date': datetime.datetime(2023, 1, 3, 22, 21, 35), 'return_place': '종로플레이스'}}\n",
      "{'_id': ObjectId('66534e5f0b54fa89dc401c63'), 'cycle_num': 'SPB-62819', 'created_at': datetime.datetime(2023, 1, 1, 0, 1), 'content': '안장', 'rental_info': {'rental_date': datetime.datetime(2023, 1, 3, 23, 1, 20), 'rental_place': '종로플레이스', 'return_date': datetime.datetime(2023, 1, 3, 23, 5, 28), 'return_place': '종로3가역 8번출구'}}\n"
     ]
    }
   ],
   "execution_count": 24
  },
  {
   "metadata": {
    "ExecuteTime": {
     "end_time": "2024-06-08T23:58:43.755841Z",
     "start_time": "2024-06-08T23:58:43.693555Z"
    }
   },
   "cell_type": "code",
   "source": [
    "collection = db['rental_info']\n",
    "\n",
    "pipeline = [\n",
    "    {\n",
    "        \"$lookup\": {\n",
    "            \"from\": \"rental_shop_info\",\n",
    "            \"localField\": \"rental_station_id\",\n",
    "            \"foreignField\": \"station_id\",\n",
    "            \"as\": \"station_info\"\n",
    "        }\n",
    "    },\n",
    "    {\"$unwind\": \"$station_info\"},\n",
    "    {\"$project\": {\n",
    "        \"cycle_num\": 1,\n",
    "        \"rental_date\": 1,\n",
    "        \"rental_place\": 1,\n",
    "        \"return_date\": 1,\n",
    "        \"return_place\": 1,\n",
    "        \"station_info.address1\": 1,\n",
    "        \"station_info.latitude\": 1,\n",
    "        \"station_info.longitude\": 1\n",
    "    }},\n",
    "    {\"$limit\": 5}\n",
    "]\n",
    "\n",
    "result = list(collection.aggregate(pipeline))\n",
    "for doc in result:\n",
    "    print(doc)"
   ],
   "id": "7e2165eab8d806c2",
   "outputs": [
    {
     "name": "stdout",
     "output_type": "stream",
     "text": [
      "{'_id': ObjectId('665d6d02feb19af166ac3194'), 'cycle_num': 'SPB-39194', 'rental_date': datetime.datetime(2023, 1, 1, 0, 2, 13), 'rental_place': '번동사거리', 'return_date': datetime.datetime(2023, 1, 1, 0, 2, 43), 'return_place': '번동사거리', 'station_info': {'address1': '서울특별시 강북구 번동 430-76', 'latitude': 37.635391, 'longitude': 127.034554}}\n",
      "{'_id': ObjectId('665d6d02feb19af166ac3195'), 'cycle_num': 'SPB-43457', 'rental_date': datetime.datetime(2023, 1, 1, 0, 1, 20), 'rental_place': '노원역1번출구', 'return_date': datetime.datetime(2023, 1, 1, 0, 3, 28), 'return_place': '상계초교 입구 교차로 명주빌딩 앞', 'station_info': {'address1': '서울특별시 노원구 상계동 335-4', 'latitude': 37.6562, 'longitude': 127.063622}}\n",
      "{'_id': ObjectId('665d6d02feb19af166ac3196'), 'cycle_num': 'SPB-44383', 'rental_date': datetime.datetime(2023, 1, 1, 0, 4, 1), 'rental_place': '석촌호수 아뜰리에', 'return_date': datetime.datetime(2023, 1, 1, 0, 4, 21), 'return_place': '석촌호수 아뜰리에', 'station_info': {'address1': '서울특별시 송파구 삼학사로 136', 'latitude': 37.506748, 'longitude': 127.098831}}\n",
      "{'_id': ObjectId('665d6d02feb19af166ac3197'), 'cycle_num': 'SPB-37186', 'rental_date': datetime.datetime(2023, 1, 1, 0, 2, 9), 'rental_place': '엘웨딩', 'return_date': datetime.datetime(2023, 1, 1, 0, 4, 59), 'return_place': '성내삼성아파트', 'station_info': {'address1': '서울특별시 강동구 천호대로 1052 엘웨딩홀', 'latitude': 37.536831, 'longitude': 127.128418}}\n",
      "{'_id': ObjectId('665d6d02feb19af166ac3198'), 'cycle_num': 'SPB-59440', 'rental_date': datetime.datetime(2023, 1, 1, 0, 2, 24), 'rental_place': '안암2교 옆', 'return_date': datetime.datetime(2023, 1, 1, 0, 5, 2), 'return_place': '안암로터리 버스정류장 앞', 'station_info': {'address1': '서울특별시 성북구 안암로 17', 'latitude': 37.579449, 'longitude': 127.024193}}\n"
     ]
    }
   ],
   "execution_count": 25
  },
  {
   "metadata": {
    "ExecuteTime": {
     "end_time": "2024-06-09T00:00:22.059448Z",
     "start_time": "2024-06-08T23:59:01.726865Z"
    }
   },
   "cell_type": "code",
   "source": [
    "collection = db['rental_info']\n",
    "\n",
    "pipeline = [\n",
    "    {\"$group\": {\"_id\": \"$user.usr_cls_cd\", \"count\": {\"$sum\": 1}}},\n",
    "    {\"$sort\": {\"count\": -1}}\n",
    "]\n",
    "\n",
    "result = list(collection.aggregate(pipeline))\n",
    "for doc in result:\n",
    "    print(doc)"
   ],
   "id": "da8a7feffa37349c",
   "outputs": [
    {
     "name": "stdout",
     "output_type": "stream",
     "text": [
      "{'_id': '내국인', 'count': 45899749}\n",
      "{'_id': '비회원', 'count': 419404}\n",
      "{'_id': '외국인', 'count': 69080}\n"
     ]
    }
   ],
   "execution_count": 26
  },
  {
   "metadata": {
    "ExecuteTime": {
     "end_time": "2024-06-09T01:10:58.928038Z",
     "start_time": "2024-06-09T01:10:58.899651Z"
    }
   },
   "cell_type": "code",
   "source": [
    "import logging\n",
    "# Logging\n",
    "logging.info(\"Starting aggregation for broken_history and rental_info correlation\")\n",
    "\n",
    "pipeline = [\n",
    "    {\n",
    "        \"$lookup\": {\n",
    "            \"from\": \"rental_info\",\n",
    "            \"localField\": \"cycle_num\",\n",
    "            \"foreignField\": \"cycle_num\",\n",
    "            \"as\": \"rental_info\"\n",
    "        }\n",
    "    },\n",
    "    {\"$unwind\": \"$rental_info\"},\n",
    "    {\n",
    "        \"$group\": {\n",
    "            \"_id\": \"$cycle_num\",\n",
    "            \"total_rentals\": {\"$sum\": 1},\n",
    "            \"total_broken\": {\"$sum\": 1}\n",
    "        }\n",
    "    },\n",
    "    {\"$sort\": {\"total_broken\": -1, \"total_rentals\": -1}},\n",
    "    {\"$limit\": 10}\n",
    "]\n",
    "\n",
    "result = list(db['broken_history'].aggregate(pipeline))\n",
    "for doc in result:\n",
    "    logging.info(doc)"
   ],
   "id": "e1e39a2132c27147",
   "outputs": [],
   "execution_count": 31
  },
  {
   "metadata": {
    "ExecuteTime": {
     "end_time": "2024-06-09T01:51:58.956601Z",
     "start_time": "2024-06-09T01:27:50.879295Z"
    }
   },
   "cell_type": "code",
   "source": [
    "import logging\n",
    "import pandas as pd\n",
    "import matplotlib.pyplot as plt\n",
    "\n",
    "# 인덱스 추가\n",
    "db['broken_history'].create_index([('cycle_num', 1)])\n",
    "db['rental_info'].create_index([('cycle_num', 1)])\n",
    "\n",
    "# Logging\n",
    "logging.info(\"Starting aggregation for broken_history and rental_info correlation\")\n",
    "\n",
    "pipeline = [\n",
    "    {\n",
    "        \"$lookup\": {\n",
    "            \"from\": \"rental_info\",\n",
    "            \"localField\": \"cycle_num\",\n",
    "            \"foreignField\": \"cycle_num\",\n",
    "            \"as\": \"rental_info\"\n",
    "        }\n",
    "    },\n",
    "    {\"$unwind\": \"$rental_info\"},\n",
    "    {\n",
    "        \"$group\": {\n",
    "            \"_id\": \"$cycle_num\",\n",
    "            \"total_rentals\": {\"$sum\": 1},\n",
    "            \"total_broken\": {\"$sum\": 1}\n",
    "        }\n",
    "    },\n",
    "    {\"$sort\": {\"total_broken\": -1, \"total_rentals\": -1}},\n",
    "    {\"$limit\": 10}\n",
    "]\n",
    "\n",
    "result = list(db['broken_history'].aggregate(pipeline))\n",
    "\n",
    "# 데이터 프레임으로 변환\n",
    "df = pd.DataFrame(result)\n",
    "\n",
    "# 그래프로 가시화\n",
    "plt.figure(figsize=(10, 6))\n",
    "plt.scatter(df['_id'], df['total_broken'], label='Total Broken')\n",
    "plt.scatter(df['_id'], df['total_rentals'], label='Total Rentals')\n",
    "plt.xlabel('Cycle Number')\n",
    "plt.ylabel('Count')\n",
    "plt.title('Correlation between Broken Frequency and Rental Frequency')\n",
    "plt.legend()\n",
    "plt.show()"
   ],
   "id": "5cabf6cdd5a0cbde",
   "outputs": [
    {
     "ename": "KeyboardInterrupt",
     "evalue": "",
     "output_type": "error",
     "traceback": [
      "\u001B[0;31m---------------------------------------------------------------------------\u001B[0m",
      "\u001B[0;31mKeyboardInterrupt\u001B[0m                         Traceback (most recent call last)",
      "Cell \u001B[0;32mIn[34], line 33\u001B[0m\n\u001B[1;32m     10\u001B[0m logging\u001B[38;5;241m.\u001B[39minfo(\u001B[38;5;124m\"\u001B[39m\u001B[38;5;124mStarting aggregation for broken_history and rental_info correlation\u001B[39m\u001B[38;5;124m\"\u001B[39m)\n\u001B[1;32m     12\u001B[0m pipeline \u001B[38;5;241m=\u001B[39m [\n\u001B[1;32m     13\u001B[0m     {\n\u001B[1;32m     14\u001B[0m         \u001B[38;5;124m\"\u001B[39m\u001B[38;5;124m$lookup\u001B[39m\u001B[38;5;124m\"\u001B[39m: {\n\u001B[0;32m   (...)\u001B[0m\n\u001B[1;32m     30\u001B[0m     {\u001B[38;5;124m\"\u001B[39m\u001B[38;5;124m$limit\u001B[39m\u001B[38;5;124m\"\u001B[39m: \u001B[38;5;241m10\u001B[39m}\n\u001B[1;32m     31\u001B[0m ]\n\u001B[0;32m---> 33\u001B[0m result \u001B[38;5;241m=\u001B[39m \u001B[38;5;28mlist\u001B[39m(db[\u001B[38;5;124m'\u001B[39m\u001B[38;5;124mbroken_history\u001B[39m\u001B[38;5;124m'\u001B[39m]\u001B[38;5;241m.\u001B[39maggregate(pipeline))\n\u001B[1;32m     35\u001B[0m \u001B[38;5;66;03m# 데이터 프레임으로 변환\u001B[39;00m\n\u001B[1;32m     36\u001B[0m df \u001B[38;5;241m=\u001B[39m pd\u001B[38;5;241m.\u001B[39mDataFrame(result)\n",
      "File \u001B[0;32m/opt/homebrew/anaconda3/lib/python3.11/site-packages/pymongo/collection.py:2696\u001B[0m, in \u001B[0;36mCollection.aggregate\u001B[0;34m(self, pipeline, session, let, comment, **kwargs)\u001B[0m\n\u001B[1;32m   2620\u001B[0m \u001B[38;5;250m\u001B[39m\u001B[38;5;124;03m\"\"\"Perform an aggregation using the aggregation framework on this\u001B[39;00m\n\u001B[1;32m   2621\u001B[0m \u001B[38;5;124;03mcollection.\u001B[39;00m\n\u001B[1;32m   2622\u001B[0m \n\u001B[0;32m   (...)\u001B[0m\n\u001B[1;32m   2693\u001B[0m \u001B[38;5;124;03m    https://mongodb.com/docs/manual/reference/command/aggregate\u001B[39;00m\n\u001B[1;32m   2694\u001B[0m \u001B[38;5;124;03m\"\"\"\u001B[39;00m\n\u001B[1;32m   2695\u001B[0m \u001B[38;5;28;01mwith\u001B[39;00m \u001B[38;5;28mself\u001B[39m\u001B[38;5;241m.\u001B[39m__database\u001B[38;5;241m.\u001B[39mclient\u001B[38;5;241m.\u001B[39m_tmp_session(session, close\u001B[38;5;241m=\u001B[39m\u001B[38;5;28;01mFalse\u001B[39;00m) \u001B[38;5;28;01mas\u001B[39;00m s:\n\u001B[0;32m-> 2696\u001B[0m     \u001B[38;5;28;01mreturn\u001B[39;00m \u001B[38;5;28mself\u001B[39m\u001B[38;5;241m.\u001B[39m_aggregate(\n\u001B[1;32m   2697\u001B[0m         _CollectionAggregationCommand,\n\u001B[1;32m   2698\u001B[0m         pipeline,\n\u001B[1;32m   2699\u001B[0m         CommandCursor,\n\u001B[1;32m   2700\u001B[0m         session\u001B[38;5;241m=\u001B[39ms,\n\u001B[1;32m   2701\u001B[0m         explicit_session\u001B[38;5;241m=\u001B[39msession \u001B[38;5;129;01mis\u001B[39;00m \u001B[38;5;129;01mnot\u001B[39;00m \u001B[38;5;28;01mNone\u001B[39;00m,\n\u001B[1;32m   2702\u001B[0m         let\u001B[38;5;241m=\u001B[39mlet,\n\u001B[1;32m   2703\u001B[0m         comment\u001B[38;5;241m=\u001B[39mcomment,\n\u001B[1;32m   2704\u001B[0m         \u001B[38;5;241m*\u001B[39m\u001B[38;5;241m*\u001B[39mkwargs,\n\u001B[1;32m   2705\u001B[0m     )\n",
      "File \u001B[0;32m/opt/homebrew/anaconda3/lib/python3.11/site-packages/pymongo/_csot.py:108\u001B[0m, in \u001B[0;36mapply.<locals>.csot_wrapper\u001B[0;34m(self, *args, **kwargs)\u001B[0m\n\u001B[1;32m    106\u001B[0m         \u001B[38;5;28;01mwith\u001B[39;00m _TimeoutContext(timeout):\n\u001B[1;32m    107\u001B[0m             \u001B[38;5;28;01mreturn\u001B[39;00m func(\u001B[38;5;28mself\u001B[39m, \u001B[38;5;241m*\u001B[39margs, \u001B[38;5;241m*\u001B[39m\u001B[38;5;241m*\u001B[39mkwargs)\n\u001B[0;32m--> 108\u001B[0m \u001B[38;5;28;01mreturn\u001B[39;00m func(\u001B[38;5;28mself\u001B[39m, \u001B[38;5;241m*\u001B[39margs, \u001B[38;5;241m*\u001B[39m\u001B[38;5;241m*\u001B[39mkwargs)\n",
      "File \u001B[0;32m/opt/homebrew/anaconda3/lib/python3.11/site-packages/pymongo/collection.py:2604\u001B[0m, in \u001B[0;36mCollection._aggregate\u001B[0;34m(self, aggregation_command, pipeline, cursor_class, session, explicit_session, let, comment, **kwargs)\u001B[0m\n\u001B[1;32m   2593\u001B[0m     kwargs[\u001B[38;5;124m\"\u001B[39m\u001B[38;5;124mcomment\u001B[39m\u001B[38;5;124m\"\u001B[39m] \u001B[38;5;241m=\u001B[39m comment\n\u001B[1;32m   2594\u001B[0m cmd \u001B[38;5;241m=\u001B[39m aggregation_command(\n\u001B[1;32m   2595\u001B[0m     \u001B[38;5;28mself\u001B[39m,\n\u001B[1;32m   2596\u001B[0m     cursor_class,\n\u001B[0;32m   (...)\u001B[0m\n\u001B[1;32m   2601\u001B[0m     user_fields\u001B[38;5;241m=\u001B[39m{\u001B[38;5;124m\"\u001B[39m\u001B[38;5;124mcursor\u001B[39m\u001B[38;5;124m\"\u001B[39m: {\u001B[38;5;124m\"\u001B[39m\u001B[38;5;124mfirstBatch\u001B[39m\u001B[38;5;124m\"\u001B[39m: \u001B[38;5;241m1\u001B[39m}},\n\u001B[1;32m   2602\u001B[0m )\n\u001B[0;32m-> 2604\u001B[0m \u001B[38;5;28;01mreturn\u001B[39;00m \u001B[38;5;28mself\u001B[39m\u001B[38;5;241m.\u001B[39m__database\u001B[38;5;241m.\u001B[39mclient\u001B[38;5;241m.\u001B[39m_retryable_read(\n\u001B[1;32m   2605\u001B[0m     cmd\u001B[38;5;241m.\u001B[39mget_cursor,\n\u001B[1;32m   2606\u001B[0m     cmd\u001B[38;5;241m.\u001B[39mget_read_preference(session),  \u001B[38;5;66;03m# type: ignore[arg-type]\u001B[39;00m\n\u001B[1;32m   2607\u001B[0m     session,\n\u001B[1;32m   2608\u001B[0m     retryable\u001B[38;5;241m=\u001B[39m\u001B[38;5;129;01mnot\u001B[39;00m cmd\u001B[38;5;241m.\u001B[39m_performs_write,\n\u001B[1;32m   2609\u001B[0m     operation\u001B[38;5;241m=\u001B[39m_Op\u001B[38;5;241m.\u001B[39mAGGREGATE,\n\u001B[1;32m   2610\u001B[0m )\n",
      "File \u001B[0;32m/opt/homebrew/anaconda3/lib/python3.11/site-packages/pymongo/mongo_client.py:1534\u001B[0m, in \u001B[0;36mMongoClient._retryable_read\u001B[0;34m(self, func, read_pref, session, operation, address, retryable, operation_id)\u001B[0m\n\u001B[1;32m   1529\u001B[0m \u001B[38;5;66;03m# Ensure that the client supports retrying on reads and there is no session in\u001B[39;00m\n\u001B[1;32m   1530\u001B[0m \u001B[38;5;66;03m# transaction, otherwise, we will not support retry behavior for this call.\u001B[39;00m\n\u001B[1;32m   1531\u001B[0m retryable \u001B[38;5;241m=\u001B[39m \u001B[38;5;28mbool\u001B[39m(\n\u001B[1;32m   1532\u001B[0m     retryable \u001B[38;5;129;01mand\u001B[39;00m \u001B[38;5;28mself\u001B[39m\u001B[38;5;241m.\u001B[39moptions\u001B[38;5;241m.\u001B[39mretry_reads \u001B[38;5;129;01mand\u001B[39;00m \u001B[38;5;129;01mnot\u001B[39;00m (session \u001B[38;5;129;01mand\u001B[39;00m session\u001B[38;5;241m.\u001B[39min_transaction)\n\u001B[1;32m   1533\u001B[0m )\n\u001B[0;32m-> 1534\u001B[0m \u001B[38;5;28;01mreturn\u001B[39;00m \u001B[38;5;28mself\u001B[39m\u001B[38;5;241m.\u001B[39m_retry_internal(\n\u001B[1;32m   1535\u001B[0m     func,\n\u001B[1;32m   1536\u001B[0m     session,\n\u001B[1;32m   1537\u001B[0m     \u001B[38;5;28;01mNone\u001B[39;00m,\n\u001B[1;32m   1538\u001B[0m     operation,\n\u001B[1;32m   1539\u001B[0m     is_read\u001B[38;5;241m=\u001B[39m\u001B[38;5;28;01mTrue\u001B[39;00m,\n\u001B[1;32m   1540\u001B[0m     address\u001B[38;5;241m=\u001B[39maddress,\n\u001B[1;32m   1541\u001B[0m     read_pref\u001B[38;5;241m=\u001B[39mread_pref,\n\u001B[1;32m   1542\u001B[0m     retryable\u001B[38;5;241m=\u001B[39mretryable,\n\u001B[1;32m   1543\u001B[0m     operation_id\u001B[38;5;241m=\u001B[39moperation_id,\n\u001B[1;32m   1544\u001B[0m )\n",
      "File \u001B[0;32m/opt/homebrew/anaconda3/lib/python3.11/site-packages/pymongo/_csot.py:108\u001B[0m, in \u001B[0;36mapply.<locals>.csot_wrapper\u001B[0;34m(self, *args, **kwargs)\u001B[0m\n\u001B[1;32m    106\u001B[0m         \u001B[38;5;28;01mwith\u001B[39;00m _TimeoutContext(timeout):\n\u001B[1;32m    107\u001B[0m             \u001B[38;5;28;01mreturn\u001B[39;00m func(\u001B[38;5;28mself\u001B[39m, \u001B[38;5;241m*\u001B[39margs, \u001B[38;5;241m*\u001B[39m\u001B[38;5;241m*\u001B[39mkwargs)\n\u001B[0;32m--> 108\u001B[0m \u001B[38;5;28;01mreturn\u001B[39;00m func(\u001B[38;5;28mself\u001B[39m, \u001B[38;5;241m*\u001B[39margs, \u001B[38;5;241m*\u001B[39m\u001B[38;5;241m*\u001B[39mkwargs)\n",
      "File \u001B[0;32m/opt/homebrew/anaconda3/lib/python3.11/site-packages/pymongo/mongo_client.py:1501\u001B[0m, in \u001B[0;36mMongoClient._retry_internal\u001B[0;34m(self, func, session, bulk, operation, is_read, address, read_pref, retryable, operation_id)\u001B[0m\n\u001B[1;32m   1464\u001B[0m \u001B[38;5;129m@_csot\u001B[39m\u001B[38;5;241m.\u001B[39mapply\n\u001B[1;32m   1465\u001B[0m \u001B[38;5;28;01mdef\u001B[39;00m \u001B[38;5;21m_retry_internal\u001B[39m(\n\u001B[1;32m   1466\u001B[0m     \u001B[38;5;28mself\u001B[39m,\n\u001B[0;32m   (...)\u001B[0m\n\u001B[1;32m   1475\u001B[0m     operation_id: Optional[\u001B[38;5;28mint\u001B[39m] \u001B[38;5;241m=\u001B[39m \u001B[38;5;28;01mNone\u001B[39;00m,\n\u001B[1;32m   1476\u001B[0m ) \u001B[38;5;241m-\u001B[39m\u001B[38;5;241m>\u001B[39m T:\n\u001B[1;32m   1477\u001B[0m \u001B[38;5;250m    \u001B[39m\u001B[38;5;124;03m\"\"\"Internal retryable helper for all client transactions.\u001B[39;00m\n\u001B[1;32m   1478\u001B[0m \n\u001B[1;32m   1479\u001B[0m \u001B[38;5;124;03m    :param func: Callback function we want to retry\u001B[39;00m\n\u001B[0;32m   (...)\u001B[0m\n\u001B[1;32m   1488\u001B[0m \u001B[38;5;124;03m    :return: Output of the calling func()\u001B[39;00m\n\u001B[1;32m   1489\u001B[0m \u001B[38;5;124;03m    \"\"\"\u001B[39;00m\n\u001B[1;32m   1490\u001B[0m     \u001B[38;5;28;01mreturn\u001B[39;00m _ClientConnectionRetryable(\n\u001B[1;32m   1491\u001B[0m         mongo_client\u001B[38;5;241m=\u001B[39m\u001B[38;5;28mself\u001B[39m,\n\u001B[1;32m   1492\u001B[0m         func\u001B[38;5;241m=\u001B[39mfunc,\n\u001B[1;32m   1493\u001B[0m         bulk\u001B[38;5;241m=\u001B[39mbulk,\n\u001B[1;32m   1494\u001B[0m         operation\u001B[38;5;241m=\u001B[39moperation,\n\u001B[1;32m   1495\u001B[0m         is_read\u001B[38;5;241m=\u001B[39mis_read,\n\u001B[1;32m   1496\u001B[0m         session\u001B[38;5;241m=\u001B[39msession,\n\u001B[1;32m   1497\u001B[0m         read_pref\u001B[38;5;241m=\u001B[39mread_pref,\n\u001B[1;32m   1498\u001B[0m         address\u001B[38;5;241m=\u001B[39maddress,\n\u001B[1;32m   1499\u001B[0m         retryable\u001B[38;5;241m=\u001B[39mretryable,\n\u001B[1;32m   1500\u001B[0m         operation_id\u001B[38;5;241m=\u001B[39moperation_id,\n\u001B[0;32m-> 1501\u001B[0m     )\u001B[38;5;241m.\u001B[39mrun()\n",
      "File \u001B[0;32m/opt/homebrew/anaconda3/lib/python3.11/site-packages/pymongo/mongo_client.py:2347\u001B[0m, in \u001B[0;36m_ClientConnectionRetryable.run\u001B[0;34m(self)\u001B[0m\n\u001B[1;32m   2345\u001B[0m \u001B[38;5;28mself\u001B[39m\u001B[38;5;241m.\u001B[39m_check_last_error(check_csot\u001B[38;5;241m=\u001B[39m\u001B[38;5;28;01mTrue\u001B[39;00m)\n\u001B[1;32m   2346\u001B[0m \u001B[38;5;28;01mtry\u001B[39;00m:\n\u001B[0;32m-> 2347\u001B[0m     \u001B[38;5;28;01mreturn\u001B[39;00m \u001B[38;5;28mself\u001B[39m\u001B[38;5;241m.\u001B[39m_read() \u001B[38;5;28;01mif\u001B[39;00m \u001B[38;5;28mself\u001B[39m\u001B[38;5;241m.\u001B[39m_is_read \u001B[38;5;28;01melse\u001B[39;00m \u001B[38;5;28mself\u001B[39m\u001B[38;5;241m.\u001B[39m_write()\n\u001B[1;32m   2348\u001B[0m \u001B[38;5;28;01mexcept\u001B[39;00m ServerSelectionTimeoutError:\n\u001B[1;32m   2349\u001B[0m     \u001B[38;5;66;03m# The application may think the write was never attempted\u001B[39;00m\n\u001B[1;32m   2350\u001B[0m     \u001B[38;5;66;03m# if we raise ServerSelectionTimeoutError on the retry\u001B[39;00m\n\u001B[1;32m   2351\u001B[0m     \u001B[38;5;66;03m# attempt. Raise the original exception instead.\u001B[39;00m\n\u001B[1;32m   2352\u001B[0m     \u001B[38;5;28mself\u001B[39m\u001B[38;5;241m.\u001B[39m_check_last_error()\n",
      "File \u001B[0;32m/opt/homebrew/anaconda3/lib/python3.11/site-packages/pymongo/mongo_client.py:2485\u001B[0m, in \u001B[0;36m_ClientConnectionRetryable._read\u001B[0;34m(self)\u001B[0m\n\u001B[1;32m   2483\u001B[0m \u001B[38;5;28;01mif\u001B[39;00m \u001B[38;5;28mself\u001B[39m\u001B[38;5;241m.\u001B[39m_retrying \u001B[38;5;129;01mand\u001B[39;00m \u001B[38;5;129;01mnot\u001B[39;00m \u001B[38;5;28mself\u001B[39m\u001B[38;5;241m.\u001B[39m_retryable:\n\u001B[1;32m   2484\u001B[0m     \u001B[38;5;28mself\u001B[39m\u001B[38;5;241m.\u001B[39m_check_last_error()\n\u001B[0;32m-> 2485\u001B[0m \u001B[38;5;28;01mreturn\u001B[39;00m \u001B[38;5;28mself\u001B[39m\u001B[38;5;241m.\u001B[39m_func(\u001B[38;5;28mself\u001B[39m\u001B[38;5;241m.\u001B[39m_session, \u001B[38;5;28mself\u001B[39m\u001B[38;5;241m.\u001B[39m_server, conn, read_pref)\n",
      "File \u001B[0;32m/opt/homebrew/anaconda3/lib/python3.11/site-packages/pymongo/aggregation.py:162\u001B[0m, in \u001B[0;36m_AggregationCommand.get_cursor\u001B[0;34m(self, session, server, conn, read_preference)\u001B[0m\n\u001B[1;32m    159\u001B[0m     write_concern \u001B[38;5;241m=\u001B[39m \u001B[38;5;28;01mNone\u001B[39;00m\n\u001B[1;32m    161\u001B[0m \u001B[38;5;66;03m# Run command.\u001B[39;00m\n\u001B[0;32m--> 162\u001B[0m result \u001B[38;5;241m=\u001B[39m conn\u001B[38;5;241m.\u001B[39mcommand(\n\u001B[1;32m    163\u001B[0m     \u001B[38;5;28mself\u001B[39m\u001B[38;5;241m.\u001B[39m_database\u001B[38;5;241m.\u001B[39mname,\n\u001B[1;32m    164\u001B[0m     cmd,\n\u001B[1;32m    165\u001B[0m     read_preference,\n\u001B[1;32m    166\u001B[0m     \u001B[38;5;28mself\u001B[39m\u001B[38;5;241m.\u001B[39m_target\u001B[38;5;241m.\u001B[39mcodec_options,\n\u001B[1;32m    167\u001B[0m     parse_write_concern_error\u001B[38;5;241m=\u001B[39m\u001B[38;5;28;01mTrue\u001B[39;00m,\n\u001B[1;32m    168\u001B[0m     read_concern\u001B[38;5;241m=\u001B[39mread_concern,\n\u001B[1;32m    169\u001B[0m     write_concern\u001B[38;5;241m=\u001B[39mwrite_concern,\n\u001B[1;32m    170\u001B[0m     collation\u001B[38;5;241m=\u001B[39m\u001B[38;5;28mself\u001B[39m\u001B[38;5;241m.\u001B[39m_collation,\n\u001B[1;32m    171\u001B[0m     session\u001B[38;5;241m=\u001B[39msession,\n\u001B[1;32m    172\u001B[0m     client\u001B[38;5;241m=\u001B[39m\u001B[38;5;28mself\u001B[39m\u001B[38;5;241m.\u001B[39m_database\u001B[38;5;241m.\u001B[39mclient,\n\u001B[1;32m    173\u001B[0m     user_fields\u001B[38;5;241m=\u001B[39m\u001B[38;5;28mself\u001B[39m\u001B[38;5;241m.\u001B[39m_user_fields,\n\u001B[1;32m    174\u001B[0m )\n\u001B[1;32m    176\u001B[0m \u001B[38;5;28;01mif\u001B[39;00m \u001B[38;5;28mself\u001B[39m\u001B[38;5;241m.\u001B[39m_result_processor:\n\u001B[1;32m    177\u001B[0m     \u001B[38;5;28mself\u001B[39m\u001B[38;5;241m.\u001B[39m_result_processor(result, conn)\n",
      "File \u001B[0;32m/opt/homebrew/anaconda3/lib/python3.11/site-packages/pymongo/helpers.py:327\u001B[0m, in \u001B[0;36m_handle_reauth.<locals>.inner\u001B[0;34m(*args, **kwargs)\u001B[0m\n\u001B[1;32m    324\u001B[0m \u001B[38;5;28;01mfrom\u001B[39;00m \u001B[38;5;21;01mpymongo\u001B[39;00m\u001B[38;5;21;01m.\u001B[39;00m\u001B[38;5;21;01mpool\u001B[39;00m \u001B[38;5;28;01mimport\u001B[39;00m Connection\n\u001B[1;32m    326\u001B[0m \u001B[38;5;28;01mtry\u001B[39;00m:\n\u001B[0;32m--> 327\u001B[0m     \u001B[38;5;28;01mreturn\u001B[39;00m func(\u001B[38;5;241m*\u001B[39margs, \u001B[38;5;241m*\u001B[39m\u001B[38;5;241m*\u001B[39mkwargs)\n\u001B[1;32m    328\u001B[0m \u001B[38;5;28;01mexcept\u001B[39;00m OperationFailure \u001B[38;5;28;01mas\u001B[39;00m exc:\n\u001B[1;32m    329\u001B[0m     \u001B[38;5;28;01mif\u001B[39;00m no_reauth:\n",
      "File \u001B[0;32m/opt/homebrew/anaconda3/lib/python3.11/site-packages/pymongo/pool.py:1013\u001B[0m, in \u001B[0;36mConnection.command\u001B[0;34m(self, dbname, spec, read_preference, codec_options, check, allowable_errors, read_concern, write_concern, parse_write_concern_error, collation, session, client, retryable_write, publish_events, user_fields, exhaust_allowed)\u001B[0m\n\u001B[1;32m   1011\u001B[0m \u001B[38;5;66;03m# Catch socket.error, KeyboardInterrupt, etc. and close ourselves.\u001B[39;00m\n\u001B[1;32m   1012\u001B[0m \u001B[38;5;28;01mexcept\u001B[39;00m \u001B[38;5;167;01mBaseException\u001B[39;00m \u001B[38;5;28;01mas\u001B[39;00m error:\n\u001B[0;32m-> 1013\u001B[0m     \u001B[38;5;28mself\u001B[39m\u001B[38;5;241m.\u001B[39m_raise_connection_failure(error)\n",
      "File \u001B[0;32m/opt/homebrew/anaconda3/lib/python3.11/site-packages/pymongo/pool.py:985\u001B[0m, in \u001B[0;36mConnection.command\u001B[0;34m(self, dbname, spec, read_preference, codec_options, check, allowable_errors, read_concern, write_concern, parse_write_concern_error, collation, session, client, retryable_write, publish_events, user_fields, exhaust_allowed)\u001B[0m\n\u001B[1;32m    983\u001B[0m     \u001B[38;5;28mself\u001B[39m\u001B[38;5;241m.\u001B[39m_raise_if_not_writable(unacknowledged)\n\u001B[1;32m    984\u001B[0m \u001B[38;5;28;01mtry\u001B[39;00m:\n\u001B[0;32m--> 985\u001B[0m     \u001B[38;5;28;01mreturn\u001B[39;00m command(\n\u001B[1;32m    986\u001B[0m         \u001B[38;5;28mself\u001B[39m,\n\u001B[1;32m    987\u001B[0m         dbname,\n\u001B[1;32m    988\u001B[0m         spec,\n\u001B[1;32m    989\u001B[0m         \u001B[38;5;28mself\u001B[39m\u001B[38;5;241m.\u001B[39mis_mongos,\n\u001B[1;32m    990\u001B[0m         read_preference,\n\u001B[1;32m    991\u001B[0m         codec_options,\n\u001B[1;32m    992\u001B[0m         session,\n\u001B[1;32m    993\u001B[0m         client,\n\u001B[1;32m    994\u001B[0m         check,\n\u001B[1;32m    995\u001B[0m         allowable_errors,\n\u001B[1;32m    996\u001B[0m         \u001B[38;5;28mself\u001B[39m\u001B[38;5;241m.\u001B[39maddress,\n\u001B[1;32m    997\u001B[0m         listeners,\n\u001B[1;32m    998\u001B[0m         \u001B[38;5;28mself\u001B[39m\u001B[38;5;241m.\u001B[39mmax_bson_size,\n\u001B[1;32m    999\u001B[0m         read_concern,\n\u001B[1;32m   1000\u001B[0m         parse_write_concern_error\u001B[38;5;241m=\u001B[39mparse_write_concern_error,\n\u001B[1;32m   1001\u001B[0m         collation\u001B[38;5;241m=\u001B[39mcollation,\n\u001B[1;32m   1002\u001B[0m         compression_ctx\u001B[38;5;241m=\u001B[39m\u001B[38;5;28mself\u001B[39m\u001B[38;5;241m.\u001B[39mcompression_context,\n\u001B[1;32m   1003\u001B[0m         use_op_msg\u001B[38;5;241m=\u001B[39m\u001B[38;5;28mself\u001B[39m\u001B[38;5;241m.\u001B[39mop_msg_enabled,\n\u001B[1;32m   1004\u001B[0m         unacknowledged\u001B[38;5;241m=\u001B[39munacknowledged,\n\u001B[1;32m   1005\u001B[0m         user_fields\u001B[38;5;241m=\u001B[39muser_fields,\n\u001B[1;32m   1006\u001B[0m         exhaust_allowed\u001B[38;5;241m=\u001B[39mexhaust_allowed,\n\u001B[1;32m   1007\u001B[0m         write_concern\u001B[38;5;241m=\u001B[39mwrite_concern,\n\u001B[1;32m   1008\u001B[0m     )\n\u001B[1;32m   1009\u001B[0m \u001B[38;5;28;01mexcept\u001B[39;00m (OperationFailure, NotPrimaryError):\n\u001B[1;32m   1010\u001B[0m     \u001B[38;5;28;01mraise\u001B[39;00m\n",
      "File \u001B[0;32m/opt/homebrew/anaconda3/lib/python3.11/site-packages/pymongo/network.py:202\u001B[0m, in \u001B[0;36mcommand\u001B[0;34m(conn, dbname, spec, is_mongos, read_preference, codec_options, session, client, check, allowable_errors, address, listeners, max_bson_size, read_concern, parse_write_concern_error, collation, compression_ctx, use_op_msg, unacknowledged, user_fields, exhaust_allowed, write_concern)\u001B[0m\n\u001B[1;32m    200\u001B[0m     response_doc: _DocumentOut \u001B[38;5;241m=\u001B[39m {\u001B[38;5;124m\"\u001B[39m\u001B[38;5;124mok\u001B[39m\u001B[38;5;124m\"\u001B[39m: \u001B[38;5;241m1\u001B[39m}\n\u001B[1;32m    201\u001B[0m \u001B[38;5;28;01melse\u001B[39;00m:\n\u001B[0;32m--> 202\u001B[0m     reply \u001B[38;5;241m=\u001B[39m receive_message(conn, request_id)\n\u001B[1;32m    203\u001B[0m     conn\u001B[38;5;241m.\u001B[39mmore_to_come \u001B[38;5;241m=\u001B[39m reply\u001B[38;5;241m.\u001B[39mmore_to_come\n\u001B[1;32m    204\u001B[0m     unpacked_docs \u001B[38;5;241m=\u001B[39m reply\u001B[38;5;241m.\u001B[39munpack_response(\n\u001B[1;32m    205\u001B[0m         codec_options\u001B[38;5;241m=\u001B[39mcodec_options, user_fields\u001B[38;5;241m=\u001B[39muser_fields\n\u001B[1;32m    206\u001B[0m     )\n",
      "File \u001B[0;32m/opt/homebrew/anaconda3/lib/python3.11/site-packages/pymongo/network.py:317\u001B[0m, in \u001B[0;36mreceive_message\u001B[0;34m(conn, request_id, max_message_size)\u001B[0m\n\u001B[1;32m    315\u001B[0m         deadline \u001B[38;5;241m=\u001B[39m \u001B[38;5;28;01mNone\u001B[39;00m\n\u001B[1;32m    316\u001B[0m \u001B[38;5;66;03m# Ignore the response's request id.\u001B[39;00m\n\u001B[0;32m--> 317\u001B[0m length, _, response_to, op_code \u001B[38;5;241m=\u001B[39m _UNPACK_HEADER(_receive_data_on_socket(conn, \u001B[38;5;241m16\u001B[39m, deadline))\n\u001B[1;32m    318\u001B[0m \u001B[38;5;66;03m# No request_id for exhaust cursor \"getMore\".\u001B[39;00m\n\u001B[1;32m    319\u001B[0m \u001B[38;5;28;01mif\u001B[39;00m request_id \u001B[38;5;129;01mis\u001B[39;00m \u001B[38;5;129;01mnot\u001B[39;00m \u001B[38;5;28;01mNone\u001B[39;00m:\n",
      "File \u001B[0;32m/opt/homebrew/anaconda3/lib/python3.11/site-packages/pymongo/network.py:394\u001B[0m, in \u001B[0;36m_receive_data_on_socket\u001B[0;34m(conn, length, deadline)\u001B[0m\n\u001B[1;32m    392\u001B[0m \u001B[38;5;28;01mwhile\u001B[39;00m bytes_read \u001B[38;5;241m<\u001B[39m length:\n\u001B[1;32m    393\u001B[0m     \u001B[38;5;28;01mtry\u001B[39;00m:\n\u001B[0;32m--> 394\u001B[0m         wait_for_read(conn, deadline)\n\u001B[1;32m    395\u001B[0m         \u001B[38;5;66;03m# CSOT: Update timeout. When the timeout has expired perform one\u001B[39;00m\n\u001B[1;32m    396\u001B[0m         \u001B[38;5;66;03m# final non-blocking recv. This helps avoid spurious timeouts when\u001B[39;00m\n\u001B[1;32m    397\u001B[0m         \u001B[38;5;66;03m# the response is actually already buffered on the client.\u001B[39;00m\n\u001B[1;32m    398\u001B[0m         \u001B[38;5;28;01mif\u001B[39;00m _csot\u001B[38;5;241m.\u001B[39mget_timeout() \u001B[38;5;129;01mand\u001B[39;00m deadline \u001B[38;5;129;01mis\u001B[39;00m \u001B[38;5;129;01mnot\u001B[39;00m \u001B[38;5;28;01mNone\u001B[39;00m:\n",
      "File \u001B[0;32m/opt/homebrew/anaconda3/lib/python3.11/site-packages/pymongo/network.py:375\u001B[0m, in \u001B[0;36mwait_for_read\u001B[0;34m(conn, deadline)\u001B[0m\n\u001B[1;32m    373\u001B[0m     \u001B[38;5;28;01melse\u001B[39;00m:\n\u001B[1;32m    374\u001B[0m         timeout \u001B[38;5;241m=\u001B[39m _POLL_TIMEOUT\n\u001B[0;32m--> 375\u001B[0m     readable \u001B[38;5;241m=\u001B[39m conn\u001B[38;5;241m.\u001B[39msocket_checker\u001B[38;5;241m.\u001B[39mselect(sock, read\u001B[38;5;241m=\u001B[39m\u001B[38;5;28;01mTrue\u001B[39;00m, timeout\u001B[38;5;241m=\u001B[39mtimeout)\n\u001B[1;32m    376\u001B[0m \u001B[38;5;28;01mif\u001B[39;00m conn\u001B[38;5;241m.\u001B[39mcancel_context\u001B[38;5;241m.\u001B[39mcancelled:\n\u001B[1;32m    377\u001B[0m     \u001B[38;5;28;01mraise\u001B[39;00m _OperationCancelled(\u001B[38;5;124m\"\u001B[39m\u001B[38;5;124moperation cancelled\u001B[39m\u001B[38;5;124m\"\u001B[39m)\n",
      "File \u001B[0;32m/opt/homebrew/anaconda3/lib/python3.11/site-packages/pymongo/socket_checker.py:66\u001B[0m, in \u001B[0;36mSocketChecker.select\u001B[0;34m(self, sock, read, write, timeout)\u001B[0m\n\u001B[1;32m     62\u001B[0m \u001B[38;5;28;01mtry\u001B[39;00m:\n\u001B[1;32m     63\u001B[0m     \u001B[38;5;66;03m# poll() timeout is in milliseconds. select()\u001B[39;00m\n\u001B[1;32m     64\u001B[0m     \u001B[38;5;66;03m# timeout is in seconds.\u001B[39;00m\n\u001B[1;32m     65\u001B[0m     timeout_ \u001B[38;5;241m=\u001B[39m \u001B[38;5;28;01mNone\u001B[39;00m \u001B[38;5;28;01mif\u001B[39;00m timeout \u001B[38;5;129;01mis\u001B[39;00m \u001B[38;5;28;01mNone\u001B[39;00m \u001B[38;5;28;01melse\u001B[39;00m timeout \u001B[38;5;241m*\u001B[39m \u001B[38;5;241m1000\u001B[39m\n\u001B[0;32m---> 66\u001B[0m     res \u001B[38;5;241m=\u001B[39m \u001B[38;5;28mself\u001B[39m\u001B[38;5;241m.\u001B[39m_poller\u001B[38;5;241m.\u001B[39mpoll(timeout_)\n\u001B[1;32m     67\u001B[0m     \u001B[38;5;66;03m# poll returns a possibly-empty list containing\u001B[39;00m\n\u001B[1;32m     68\u001B[0m     \u001B[38;5;66;03m# (fd, event) 2-tuples for the descriptors that have\u001B[39;00m\n\u001B[1;32m     69\u001B[0m     \u001B[38;5;66;03m# events or errors to report. Return True if the list\u001B[39;00m\n\u001B[1;32m     70\u001B[0m     \u001B[38;5;66;03m# is not empty.\u001B[39;00m\n\u001B[1;32m     71\u001B[0m     \u001B[38;5;28;01mreturn\u001B[39;00m \u001B[38;5;28mbool\u001B[39m(res)\n",
      "\u001B[0;31mKeyboardInterrupt\u001B[0m: "
     ]
    }
   ],
   "execution_count": 34
  },
  {
   "metadata": {},
   "cell_type": "code",
   "outputs": [],
   "execution_count": null,
   "source": "",
   "id": "3be4de8a0bbb6c14"
  }
 ],
 "metadata": {
  "kernelspec": {
   "display_name": "Python 3",
   "language": "python",
   "name": "python3"
  },
  "language_info": {
   "codemirror_mode": {
    "name": "ipython",
    "version": 2
   },
   "file_extension": ".py",
   "mimetype": "text/x-python",
   "name": "python",
   "nbconvert_exporter": "python",
   "pygments_lexer": "ipython2",
   "version": "2.7.6"
  }
 },
 "nbformat": 4,
 "nbformat_minor": 5
}
