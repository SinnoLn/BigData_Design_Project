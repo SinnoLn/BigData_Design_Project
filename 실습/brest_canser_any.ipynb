{
 "cells": [
  {
   "cell_type": "code",
   "id": "initial_id",
   "metadata": {
    "collapsed": true,
    "ExecuteTime": {
     "end_time": "2024-05-28T05:09:44.145057Z",
     "start_time": "2024-05-28T05:09:40.736195Z"
    }
   },
   "source": [
    "!pip install seaborn\n",
    "!pip install pandas\n",
    "!pip install scikit-learn"
   ],
   "outputs": [
    {
     "name": "stdout",
     "output_type": "stream",
     "text": [
      "Requirement already satisfied: seaborn in /opt/homebrew/anaconda3/lib/python3.11/site-packages (0.12.2)\r\n",
      "Requirement already satisfied: numpy!=1.24.0,>=1.17 in /opt/homebrew/anaconda3/lib/python3.11/site-packages (from seaborn) (1.26.4)\r\n",
      "Requirement already satisfied: pandas>=0.25 in /opt/homebrew/anaconda3/lib/python3.11/site-packages (from seaborn) (2.1.4)\r\n",
      "Requirement already satisfied: matplotlib!=3.6.1,>=3.1 in /opt/homebrew/anaconda3/lib/python3.11/site-packages (from seaborn) (3.8.0)\r\n",
      "Requirement already satisfied: contourpy>=1.0.1 in /opt/homebrew/anaconda3/lib/python3.11/site-packages (from matplotlib!=3.6.1,>=3.1->seaborn) (1.2.0)\r\n",
      "Requirement already satisfied: cycler>=0.10 in /opt/homebrew/anaconda3/lib/python3.11/site-packages (from matplotlib!=3.6.1,>=3.1->seaborn) (0.11.0)\r\n",
      "Requirement already satisfied: fonttools>=4.22.0 in /opt/homebrew/anaconda3/lib/python3.11/site-packages (from matplotlib!=3.6.1,>=3.1->seaborn) (4.25.0)\r\n",
      "Requirement already satisfied: kiwisolver>=1.0.1 in /opt/homebrew/anaconda3/lib/python3.11/site-packages (from matplotlib!=3.6.1,>=3.1->seaborn) (1.4.4)\r\n",
      "Requirement already satisfied: packaging>=20.0 in /opt/homebrew/anaconda3/lib/python3.11/site-packages (from matplotlib!=3.6.1,>=3.1->seaborn) (23.1)\r\n",
      "Requirement already satisfied: pillow>=6.2.0 in /opt/homebrew/anaconda3/lib/python3.11/site-packages (from matplotlib!=3.6.1,>=3.1->seaborn) (10.2.0)\r\n",
      "Requirement already satisfied: pyparsing>=2.3.1 in /opt/homebrew/anaconda3/lib/python3.11/site-packages (from matplotlib!=3.6.1,>=3.1->seaborn) (3.0.9)\r\n",
      "Requirement already satisfied: python-dateutil>=2.7 in /opt/homebrew/anaconda3/lib/python3.11/site-packages (from matplotlib!=3.6.1,>=3.1->seaborn) (2.8.2)\r\n",
      "Requirement already satisfied: pytz>=2020.1 in /opt/homebrew/anaconda3/lib/python3.11/site-packages (from pandas>=0.25->seaborn) (2023.3.post1)\r\n",
      "Requirement already satisfied: tzdata>=2022.1 in /opt/homebrew/anaconda3/lib/python3.11/site-packages (from pandas>=0.25->seaborn) (2023.3)\r\n",
      "Requirement already satisfied: six>=1.5 in /opt/homebrew/anaconda3/lib/python3.11/site-packages (from python-dateutil>=2.7->matplotlib!=3.6.1,>=3.1->seaborn) (1.16.0)\r\n",
      "Requirement already satisfied: pandas in /opt/homebrew/anaconda3/lib/python3.11/site-packages (2.1.4)\r\n",
      "Requirement already satisfied: numpy<2,>=1.23.2 in /opt/homebrew/anaconda3/lib/python3.11/site-packages (from pandas) (1.26.4)\r\n",
      "Requirement already satisfied: python-dateutil>=2.8.2 in /opt/homebrew/anaconda3/lib/python3.11/site-packages (from pandas) (2.8.2)\r\n",
      "Requirement already satisfied: pytz>=2020.1 in /opt/homebrew/anaconda3/lib/python3.11/site-packages (from pandas) (2023.3.post1)\r\n",
      "Requirement already satisfied: tzdata>=2022.1 in /opt/homebrew/anaconda3/lib/python3.11/site-packages (from pandas) (2023.3)\r\n",
      "Requirement already satisfied: six>=1.5 in /opt/homebrew/anaconda3/lib/python3.11/site-packages (from python-dateutil>=2.8.2->pandas) (1.16.0)\r\n"
     ]
    }
   ],
   "execution_count": 1
  },
  {
   "metadata": {
    "ExecuteTime": {
     "end_time": "2024-05-28T05:10:05.708917Z",
     "start_time": "2024-05-28T05:10:05.697007Z"
    }
   },
   "cell_type": "code",
   "source": [
    "import pandas as pd\n",
    "import seaborn as sns\n",
    "import matplotlib.pyplot as plt\n",
    "from sklearn.model_selection import train_test_split\n",
    "from sklearn.preprocessing import StandardScaler\n",
    "from sklearn.tree import DecisionTreeClassifier\n",
    "from sklearn.metrics import accuracy_score, classification_report, confusion_matrix\n",
    "from sklearn.impute import SimpleImputer"
   ],
   "id": "e84d95ce8f322cf4",
   "outputs": [],
   "execution_count": 2
  },
  {
   "metadata": {
    "ExecuteTime": {
     "end_time": "2024-05-28T05:10:18.761117Z",
     "start_time": "2024-05-28T05:10:18.753344Z"
    }
   },
   "cell_type": "code",
   "source": [
    "# Breast cancer 데이터셋 로드\n",
    "dataset = pd.read_csv(\"breast_cancer.csv\")\n",
    "\n",
    "# 데이터 정보 출력\n",
    "dataset.info()"
   ],
   "id": "e9ff89205062abc7",
   "outputs": [
    {
     "name": "stdout",
     "output_type": "stream",
     "text": [
      "<class 'pandas.core.frame.DataFrame'>\n",
      "RangeIndex: 569 entries, 0 to 568\n",
      "Data columns (total 32 columns):\n",
      " #   Column                   Non-Null Count  Dtype  \n",
      "---  ------                   --------------  -----  \n",
      " 0   id                       569 non-null    int64  \n",
      " 1   diagnosis                569 non-null    object \n",
      " 2   radius_mean              569 non-null    float64\n",
      " 3   texture_mean             569 non-null    float64\n",
      " 4   perimeter_mean           569 non-null    float64\n",
      " 5   area_mean                569 non-null    float64\n",
      " 6   smoothness_mean          569 non-null    float64\n",
      " 7   compactness_mean         569 non-null    float64\n",
      " 8   concavity_mean           569 non-null    float64\n",
      " 9   concave points_mean      569 non-null    float64\n",
      " 10  symmetry_mean            569 non-null    float64\n",
      " 11  fractal_dimension_mean   569 non-null    float64\n",
      " 12  radius_se                569 non-null    float64\n",
      " 13  texture_se               569 non-null    float64\n",
      " 14  perimeter_se             569 non-null    float64\n",
      " 15  area_se                  569 non-null    float64\n",
      " 16  smoothness_se            569 non-null    float64\n",
      " 17  compactness_se           569 non-null    float64\n",
      " 18  concavity_se             569 non-null    float64\n",
      " 19  concave points_se        569 non-null    float64\n",
      " 20  symmetry_se              569 non-null    float64\n",
      " 21  fractal_dimension_se     569 non-null    float64\n",
      " 22  radius_worst             569 non-null    float64\n",
      " 23  texture_worst            569 non-null    float64\n",
      " 24  perimeter_worst          569 non-null    float64\n",
      " 25  area_worst               569 non-null    float64\n",
      " 26  smoothness_worst         569 non-null    float64\n",
      " 27  compactness_worst        569 non-null    float64\n",
      " 28  concavity_worst          569 non-null    float64\n",
      " 29  concave points_worst     569 non-null    float64\n",
      " 30  symmetry_worst           569 non-null    float64\n",
      " 31  fractal_dimension_worst  569 non-null    float64\n",
      "dtypes: float64(30), int64(1), object(1)\n",
      "memory usage: 142.4+ KB\n"
     ]
    }
   ],
   "execution_count": 3
  },
  {
   "metadata": {
    "ExecuteTime": {
     "end_time": "2024-05-28T05:21:30.533313Z",
     "start_time": "2024-05-28T05:21:30.357257Z"
    }
   },
   "cell_type": "code",
   "source": [
    "# 'diagnosis' 열을 문자열로 변환\n",
    "dataset['diagnosis'] = dataset['diagnosis'].astype(str)\n",
    "\n",
    "# 'radius_mean'을 이산형으로 변환하여 시각화\n",
    "dataset['radius_mean_bin'] = pd.qcut(dataset['radius_mean'], q=4, labels=False)\n",
    "dataset['radius_mean_bin'] = dataset['radius_mean_bin'].astype(str)\n",
    "\n",
    "# catplot 실행\n",
    "sns.catplot(x=\"diagnosis\", hue=\"radius_mean_bin\", kind=\"count\", data=dataset)\n",
    "plt.title('Diagnosis Count by Radius Mean Bin')\n",
    "plt.show()"
   ],
   "id": "c960b8d6a5df7aa4",
   "outputs": [
    {
     "data": {
      "text/plain": [
       "<Figure size 500x500 with 1 Axes>"
      ],
      "image/png": "[encoded data removed]"
     },
     "metadata": {},
     "output_type": "display_data"
    }
   ],
   "execution_count": 4
  },
  {
   "metadata": {
    "ExecuteTime": {
     "end_time": "2024-05-28T05:41:11.512480Z",
     "start_time": "2024-05-28T05:41:11.395055Z"
    }
   },
   "cell_type": "code",
   "source": [
    "# 'diagnosis' 열을 문자열로 변환\n",
    "dataset['diagnosis'] = dataset['diagnosis'].astype(str)\n",
    "\n",
    "# 'radius_mean'을 이산형으로 변환하여 시각화\n",
    "dataset['radius_mean_bin'] = pd.qcut(dataset['radius_mean'], q=4, labels=False)\n",
    "dataset['radius_mean_bin'] = dataset['radius_mean_bin'].astype(str)\n",
    "\n",
    "# catplot 실행\n",
    "sns.catplot(x=\"diagnosis\", hue=\"radius_mean_bin\", kind=\"count\", data=dataset)\n",
    "plt.title('Diagnosis Count by Radius Mean Bin')\n",
    "plt.show()"
   ],
   "id": "ae8304f0fdab55d4",
   "outputs": [
    {
     "data": {
      "text/plain": [
       "<Figure size 617.861x500 with 1 Axes>"
      ],
      "image/png": "[encoded data removed]"
     },
     "metadata": {},
     "output_type": "display_data"
    }
   ],
   "execution_count": 8
  },
  {
   "metadata": {},
   "cell_type": "markdown",
   "source": "",
   "id": "1ec2439390691c9d"
  },
  {
   "metadata": {
    "ExecuteTime": {
     "end_time": "2024-05-28T05:41:54.011966Z",
     "start_time": "2024-05-28T05:41:53.999662Z"
    }
   },
   "cell_type": "code",
   "source": [
    "# 불필요한 열 제거 (필요한 경우)\n",
    "# 예시: dataset.drop(columns=['id', 'Unnamed: 32'], inplace=True)\n",
    "\n",
    "# 결측값 처리 (NaN 값을 평균값으로 대체)\n",
    "imputer = SimpleImputer(strategy='mean')\n",
    "dataset.iloc[:, 2:] = imputer.fit_transform(dataset.iloc[:, 2:])\n",
    "\n",
    "# 'diagnosis' 열을 0과 1로 변환 (악성: 1, 양성: 0)\n",
    "dataset['diagnosis'] = dataset['diagnosis'].map({'M': 1, 'B': 0})\n",
    "\n",
    "# 피처와 타겟 설정\n",
    "X = dataset.drop(columns=['diagnosis'])\n",
    "y = dataset['diagnosis']"
   ],
   "id": "aeefd037d02f3194",
   "outputs": [
    {
     "ename": "NameError",
     "evalue": "name 'SimpleImputer' is not defined",
     "output_type": "error",
     "traceback": [
      "\u001B[0;31m---------------------------------------------------------------------------\u001B[0m",
      "\u001B[0;31mNameError\u001B[0m                                 Traceback (most recent call last)",
      "Cell \u001B[0;32mIn[9], line 5\u001B[0m\n\u001B[1;32m      1\u001B[0m \u001B[38;5;66;03m# 불필요한 열 제거 (필요한 경우)\u001B[39;00m\n\u001B[1;32m      2\u001B[0m \u001B[38;5;66;03m# 예시: dataset.drop(columns=['id', 'Unnamed: 32'], inplace=True)\u001B[39;00m\n\u001B[1;32m      3\u001B[0m \n\u001B[1;32m      4\u001B[0m \u001B[38;5;66;03m# 결측값 처리 (NaN 값을 평균값으로 대체)\u001B[39;00m\n\u001B[0;32m----> 5\u001B[0m imputer \u001B[38;5;241m=\u001B[39m SimpleImputer(strategy\u001B[38;5;241m=\u001B[39m\u001B[38;5;124m'\u001B[39m\u001B[38;5;124mmean\u001B[39m\u001B[38;5;124m'\u001B[39m)\n\u001B[1;32m      6\u001B[0m dataset\u001B[38;5;241m.\u001B[39miloc[:, \u001B[38;5;241m2\u001B[39m:] \u001B[38;5;241m=\u001B[39m imputer\u001B[38;5;241m.\u001B[39mfit_transform(dataset\u001B[38;5;241m.\u001B[39miloc[:, \u001B[38;5;241m2\u001B[39m:])\n\u001B[1;32m      8\u001B[0m \u001B[38;5;66;03m# 'diagnosis' 열을 0과 1로 변환 (악성: 1, 양성: 0)\u001B[39;00m\n",
      "\u001B[0;31mNameError\u001B[0m: name 'SimpleImputer' is not defined"
     ]
    }
   ],
   "execution_count": 9
  },
  {
   "metadata": {},
   "cell_type": "code",
   "outputs": [],
   "execution_count": null,
   "source": "",
   "id": "aeb877d25fa8f911"
  }
 ],
 "metadata": {
  "kernelspec": {
   "display_name": "Python 3",
   "language": "python",
   "name": "python3"
  },
  "language_info": {
   "codemirror_mode": {
    "name": "ipython",
    "version": 2
   },
   "file_extension": ".py",
   "mimetype": "text/x-python",
   "name": "python",
   "nbconvert_exporter": "python",
   "pygments_lexer": "ipython2",
   "version": "2.7.6"
  }
 },
 "nbformat": 4,
 "nbformat_minor": 5
}
